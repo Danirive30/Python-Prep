{
 "cells": [
  {
   "attachments": {},
   "cell_type": "markdown",
   "metadata": {},
   "source": [
    "## Funciones"
   ]
  },
  {
   "attachments": {},
   "cell_type": "markdown",
   "metadata": {},
   "source": [
    "1) Crear una función que reciba un número como parámetro y devuelva True si es primo y False si no lo es"
   ]
  },
  {
   "cell_type": "code",
   "execution_count": 9,
   "metadata": {},
   "outputs": [],
   "source": [
    "def es_primo(valor):\n",
    "    if valor == 1:\n",
    "        return False\n",
    "    for i in range(2, valor):\n",
    "        if valor % i == 0:\n",
    "            return False\n",
    "    return True"
   ]
  },
  {
   "cell_type": "code",
   "execution_count": 10,
   "metadata": {},
   "outputs": [
    {
     "data": {
      "text/plain": [
       "True"
      ]
     },
     "execution_count": 10,
     "metadata": {},
     "output_type": "execute_result"
    }
   ],
   "source": [
    "es_primo(2)"
   ]
  },
  {
   "attachments": {},
   "cell_type": "markdown",
   "metadata": {},
   "source": [
    "2) Utilizando la función del punto 1, realizar otra función que reciba de parámetro una lista de números y devuelva sólo aquellos que son primos en otra lista"
   ]
  },
  {
   "cell_type": "code",
   "execution_count": 11,
   "metadata": {},
   "outputs": [],
   "source": [
    "def verificar_primo_lista(lista):\n",
    "    primos = []\n",
    "    for numero in lista:\n",
    "        if es_primo(numero):\n",
    "            primos.append(numero)\n",
    "    return primos"
   ]
  },
  {
   "cell_type": "code",
   "execution_count": 14,
   "metadata": {},
   "outputs": [
    {
     "data": {
      "text/plain": [
       "[2, 3, 5, 7]"
      ]
     },
     "execution_count": 14,
     "metadata": {},
     "output_type": "execute_result"
    }
   ],
   "source": [
    "verificar_primo_lista([1, 2, 3, 4, 5, 6, 7, 8, 9, 10])"
   ]
  },
  {
   "attachments": {},
   "cell_type": "markdown",
   "metadata": {},
   "source": [
    "3) Crear una función que al recibir una lista de números, devuelva el que más se repite y cuántas veces lo hace. Si hay más de un \"más repetido\", que devuelva cualquiera"
   ]
  },
  {
   "cell_type": "code",
   "execution_count": 20,
   "metadata": {},
   "outputs": [],
   "source": [
    "def valor_modal(numeros):\n",
    "    contador = {}\n",
    "    for numero in numeros:\n",
    "        if numero in contador:\n",
    "            contador[numero] += 1\n",
    "        else:\n",
    "            contador[numero] = 1\n",
    "    mayor_valor_modal = max(contador, key = contador.get)\n",
    "    repeticiones = contador[mayor_valor_modal]\n",
    "    return mayor_valor_modal, repeticiones"
   ]
  },
  {
   "cell_type": "code",
   "execution_count": 22,
   "metadata": {},
   "outputs": [
    {
     "name": "stdout",
     "output_type": "stream",
     "text": [
      "5 3\n"
     ]
    }
   ],
   "source": [
    "numeros = [1,1,5,6,8,10,22,5,6,4,11,9,5]\n",
    "numero, repeticiones = valor_modal(numeros)\n",
    "print(numero, repeticiones)\n"
   ]
  },
  {
   "attachments": {},
   "cell_type": "markdown",
   "metadata": {},
   "source": [
    "4) A la función del punto 3, agregar un parámetro más, que permita elegir si se requiere el menor o el mayor de los mas repetidos."
   ]
  },
  {
   "cell_type": "code",
   "execution_count": 24,
   "metadata": {},
   "outputs": [],
   "source": [
    "def valor_modal(numeros, mayor=True):\n",
    "    contador = {}\n",
    "    for numero in numeros:\n",
    "        if numero in contador:\n",
    "            contador[numero] += 1\n",
    "        else:\n",
    "            contador[numero] = 1\n",
    "    if mayor:\n",
    "        mayor_valor_modal = max(contador, key = contador.get)\n",
    "    else:\n",
    "        mayor_valor_modal = min(contador, key = contador.get)\n",
    "    \n",
    "    repeticiones = contador[mayor_valor_modal]\n",
    "    return mayor_valor_modal, repeticiones"
   ]
  },
  {
   "cell_type": "code",
   "execution_count": 26,
   "metadata": {},
   "outputs": [
    {
     "name": "stdout",
     "output_type": "stream",
     "text": [
      "5 3\n",
      "8 1\n"
     ]
    }
   ],
   "source": [
    "numeros = [1,1,5,6,8,10,22,5,6,4,11,9,5]\n",
    "#Mayor\n",
    "numero, repeticiones = valor_modal(numeros)\n",
    "print(numero, repeticiones)\n",
    "\n",
    "#Menor\n",
    "numero, repeticiones = valor_modal(numeros, mayor=False)\n",
    "print(numero, repeticiones)"
   ]
  },
  {
   "attachments": {},
   "cell_type": "markdown",
   "metadata": {},
   "source": [
    "5) Crear una función que convierta entre grados Celsius, Farenheit y Kelvin<br>\n",
    "Fórmula 1\t: (°C × 9/5) + 32 = °F<br>\n",
    "Fórmula 2\t: °C + 273.15 = °K<br>\n",
    "Debe recibir 3 parámetros: el valor, la medida de orígen y la medida de destino\n"
   ]
  },
  {
   "cell_type": "code",
   "execution_count": 41,
   "metadata": {},
   "outputs": [],
   "source": [
    "def conversion_grados(valor,origen,destino):\n",
    "    if origen == 'Celsius':\n",
    "        if destino == 'Celsius':\n",
    "            valor_destino = valor\n",
    "        elif destino == 'Farenheit':\n",
    "            valor_destino = (valor * 9/5) + 32\n",
    "        elif destino == 'Kelvin':\n",
    "            valor_destino = (valor + 273.15)\n",
    "        else:\n",
    "            print('Parametro de destino incorrecto')\n",
    "    \n",
    "    if origen == 'Farenheit':\n",
    "        if destino == 'Farenheit':\n",
    "            valor_destino = valor\n",
    "        elif destino == 'Kelvin':\n",
    "            valor_destino = ((valor - 32) * 5/9) + 273.15\n",
    "        elif destino == 'Celsius':\n",
    "            valor_destino = ((valor - 32) * 5/9)\n",
    "        else:\n",
    "            print('Parametro de destino incorrecto')\n",
    "            \n",
    "    if origen == 'Kelvin':\n",
    "        if destino == 'Kelvin':\n",
    "            valor_destino = valor\n",
    "        elif destino == 'Celsius':\n",
    "            valor_destino = valor - 273.15\n",
    "        elif destino == 'Farenheit':\n",
    "            valor_destino = ((valor - 273.15) * 9/5) + 32\n",
    "        else:\n",
    "            print('Parametro de destino incorrecto')\n",
    "   \n",
    "    return valor_destino"
   ]
  },
  {
   "cell_type": "code",
   "execution_count": 45,
   "metadata": {},
   "outputs": [
    {
     "name": "stdout",
     "output_type": "stream",
     "text": [
      "33.8\n",
      "-15.0\n",
      "-3.888888888888889\n"
     ]
    }
   ],
   "source": [
    "print(conversion_grados(1, 'Celsius', 'Farenheit'))\n",
    "print(conversion_grados(5, 'Farenheit', 'Celsius'))\n",
    "print(conversion_grados(25, 'Farenheit', 'Celsius'))"
   ]
  },
  {
   "attachments": {},
   "cell_type": "markdown",
   "metadata": {},
   "source": [
    "6) Iterando una lista con los tres valores posibles de temperatura que recibe la función del punto 5, hacer un print para cada combinación de los mismos:"
   ]
  },
  {
   "cell_type": "code",
   "execution_count": 46,
   "metadata": {},
   "outputs": [
    {
     "name": "stdout",
     "output_type": "stream",
     "text": [
      "25 grados Celsius convertidos a Celsius son 25 grados\n",
      "25 grados Celsius convertidos a Farenheit son 77.0 grados\n",
      "25 grados Celsius convertidos a Kelvin son 298.15 grados\n",
      "25 grados Farenheit convertidos a Celsius son -3.888888888888889 grados\n",
      "25 grados Farenheit convertidos a Farenheit son 25 grados\n",
      "25 grados Farenheit convertidos a Kelvin son 269.26111111111106 grados\n",
      "25 grados Kelvin convertidos a Celsius son -248.14999999999998 grados\n",
      "25 grados Kelvin convertidos a Farenheit son -414.66999999999996 grados\n",
      "25 grados Kelvin convertidos a Kelvin son 25 grados\n"
     ]
    }
   ],
   "source": [
    "metricas = ['Celsius', 'Farenheit', 'Kelvin']\n",
    "\n",
    "temperatura = 25\n",
    "for i in metricas:\n",
    "    for j in metricas:\n",
    "            conversion = conversion_grados(temperatura, i, j)\n",
    "            print(f'{temperatura} grados {i} convertidos a {j} son {conversion} grados')"
   ]
  },
  {
   "attachments": {},
   "cell_type": "markdown",
   "metadata": {},
   "source": [
    "7) Armar una función que devuelva el factorial de un número. Tener en cuenta que el usuario puede equivocarse y enviar de parámetro un número no entero o negativo"
   ]
  },
  {
   "cell_type": "code",
   "execution_count": 24,
   "metadata": {},
   "outputs": [],
   "source": [
    "def factorial(numero):\n",
    "    if type(numero) != int:\n",
    "        return 'El numero ingresado debe ser entero'\n",
    "    if numero <= 0:\n",
    "        return 'El numero debe ser entero > 0'\n",
    "    if numero <= 1:\n",
    "        return 1\n",
    "    else:\n",
    "        return numero * factorial(numero - 1)\n",
    "    \n",
    "    return numero"
   ]
  },
  {
   "cell_type": "code",
   "execution_count": 26,
   "metadata": {},
   "outputs": [
    {
     "name": "stdout",
     "output_type": "stream",
     "text": [
      "120\n",
      "El numero debe ser entero > 0\n",
      "El numero ingresado debe ser entero\n",
      "El numero ingresado debe ser entero\n"
     ]
    }
   ],
   "source": [
    "print(factorial(5))\n",
    "print(factorial(-10))\n",
    "print(factorial(1.35))\n",
    "print(factorial('10'))"
   ]
  }
 ],
 "metadata": {
  "interpreter": {
   "hash": "c85384e4cb51c8b72350f3a8712cc8351fdc3955e32a27f9b60c6242ab125f01"
  },
  "kernelspec": {
   "display_name": "Python 3 (ipykernel)",
   "language": "python",
   "name": "python3"
  },
  "language_info": {
   "codemirror_mode": {
    "name": "ipython",
    "version": 3
   },
   "file_extension": ".py",
   "mimetype": "text/x-python",
   "name": "python",
   "nbconvert_exporter": "python",
   "pygments_lexer": "ipython3",
   "version": "3.10.9"
  }
 },
 "nbformat": 4,
 "nbformat_minor": 4
}
