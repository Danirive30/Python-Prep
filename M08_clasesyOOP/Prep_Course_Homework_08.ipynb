{
 "cells": [
  {
   "attachments": {},
   "cell_type": "markdown",
   "metadata": {},
   "source": [
    "## Clases y Programación Orientada a Objetos"
   ]
  },
  {
   "attachments": {},
   "cell_type": "markdown",
   "metadata": {},
   "source": [
    "1) Crear la clase vehículo que contenga los atributos:<br>\n",
    "Color<br>\n",
    "Si es moto, auto, camioneta ó camión<br>\n",
    "Cilindrada del motor"
   ]
  },
  {
   "cell_type": "code",
   "execution_count": 1,
   "metadata": {},
   "outputs": [],
   "source": [
    "class Auto:\n",
    "    def __init__(self, color, tipo, cilindrada):\n",
    "        self.color = color\n",
    "        self.tipo = tipo\n",
    "        self.cilindrada = cilindrada  "
   ]
  },
  {
   "attachments": {},
   "cell_type": "markdown",
   "metadata": {},
   "source": [
    "2) A la clase Vehiculo creada en el punto 1, agregar los siguientes métodos:<br>\n",
    "Acelerar<br>\n",
    "Frenar<br>\n",
    "Doblar<br>"
   ]
  },
  {
   "cell_type": "code",
   "execution_count": 2,
   "metadata": {},
   "outputs": [],
   "source": [
    "class Auto:\n",
    "    def __init__(self, color, tipo, cilindrada):\n",
    "        self.color = color\n",
    "        self.tipo = tipo\n",
    "        self.cilindrada = cilindrada \n",
    "        self.velocidad_actual = 0\n",
    "        self.direccion = 0 \n",
    "        \n",
    "    def Acelerar(self, velocidad):\n",
    "        self.velocidad_actual += velocidad\n",
    "        \n",
    "    def Frenar(self, velocidad):\n",
    "        self.velocidad_actual -= velocidad\n",
    "        \n",
    "    def Doblar(self, grados):\n",
    "        self.direccion += grados"
   ]
  },
  {
   "attachments": {},
   "cell_type": "markdown",
   "metadata": {},
   "source": [
    "3) Instanciar 3 objetos de la clase vehículo y ejecutar sus métodos, probar luego el resultado"
   ]
  },
  {
   "cell_type": "code",
   "execution_count": 4,
   "metadata": {},
   "outputs": [],
   "source": [
    "a1 = Auto('Rojo','Coche','3.4')\n",
    "a2 = Auto('Verde','Camioneta','5.4')\n",
    "a3 = Auto('Azul','Moto','1.5')"
   ]
  },
  {
   "cell_type": "code",
   "execution_count": 5,
   "metadata": {},
   "outputs": [],
   "source": [
    "a1.Acelerar(40)\n",
    "a2.Acelerar(55)\n",
    "a3.Acelerar(70)\n",
    "\n",
    "a1.Frenar(-10)\n",
    "a2.Frenar(-15)\n",
    "a3.Frenar(-20)\n",
    "\n",
    "a1.Doblar(10)\n",
    "a2.Doblar(20)\n",
    "a3.Doblar(30)"
   ]
  },
  {
   "attachments": {},
   "cell_type": "markdown",
   "metadata": {},
   "source": [
    "4) Agregar a la clase Vehiculo, un método que muestre su estado, es decir, a que velocidad se encuentra y su dirección. Y otro método que muestre color, tipo y cilindrada"
   ]
  },
  {
   "cell_type": "code",
   "execution_count": 8,
   "metadata": {},
   "outputs": [],
   "source": [
    "class Auto:\n",
    "    def __init__(self, color, tipo, cilindrada):\n",
    "        self.color = color\n",
    "        self.tipo = tipo\n",
    "        self.cilindrada = cilindrada \n",
    "        self.velocidad_actual = 0\n",
    "        self.direccion = 0 \n",
    "        \n",
    "    def Acelerar(self, velocidad):\n",
    "        self.velocidad_actual += velocidad\n",
    "        \n",
    "    def Frenar(self, velocidad):\n",
    "        self.velocidad_actual -= velocidad\n",
    "        \n",
    "    def Doblar(self, grados):\n",
    "        self.direccion += grados\n",
    "        \n",
    "    def Estado(self):\n",
    "        print(f'- Velocidad {self.velocidad_actual} - Direccion: {self.direccion}')\n",
    "        \n",
    "    def Detalle(self):\n",
    "        print(f'- Color: {self.color} - Tipo: {self.tipo} - Cilindrada: {self.cilindrada}')"
   ]
  },
  {
   "cell_type": "code",
   "execution_count": 11,
   "metadata": {},
   "outputs": [
    {
     "name": "stdout",
     "output_type": "stream",
     "text": [
      "- Velocidad 40 - Direccion: 0\n",
      "- Color: Rojo - Tipo: Coche - Cilindrada: 3.4\n"
     ]
    }
   ],
   "source": [
    "a1 = Auto('Rojo','Coche','3.4')\n",
    "a1.Acelerar(40)\n",
    "\n",
    "a1.Estado()\n",
    "a1.Detalle()"
   ]
  },
  {
   "attachments": {},
   "cell_type": "markdown",
   "metadata": {},
   "source": [
    "5) Crear una clase que permita utilizar las funciones creadas en la práctica del módulo 7<br>\n",
    "Verificar Primo<br>\n",
    "Valor modal<br>\n",
    "Conversión grados<br>\n",
    "Factorial<br>"
   ]
  },
  {
   "cell_type": "code",
   "execution_count": 19,
   "metadata": {},
   "outputs": [],
   "source": [
    "class Herramientas:\n",
    "    def __init__(self) -> None:\n",
    "        pass\n",
    "    \n",
    "    def es_primo(self, valor):\n",
    "        if valor == 1:\n",
    "            return False\n",
    "        for i in range(2, valor):\n",
    "            if valor % i == 0:\n",
    "                return False\n",
    "        return True\n",
    "    \n",
    "    def valor_modal(self, numeros):\n",
    "        contador = {}\n",
    "        for numero in numeros:\n",
    "            if numero in contador:\n",
    "                contador[numero] += 1\n",
    "            else:\n",
    "                contador[numero] = 1\n",
    "        mayor_valor_modal = max(contador, key = contador.get)\n",
    "        repeticiones = contador[mayor_valor_modal]\n",
    "        return mayor_valor_modal, repeticiones\n",
    "    \n",
    "    def conversion_grados(self,valor,origen,destino):\n",
    "        if origen == 'Celsius':\n",
    "            if destino == 'Celsius':\n",
    "                valor_destino = valor\n",
    "            elif destino == 'Farenheit':\n",
    "                valor_destino = (valor * 9/5) + 32\n",
    "            elif destino == 'Kelvin':\n",
    "                valor_destino = (valor + 273.15)\n",
    "            else:\n",
    "                print('Parametro de destino incorrecto')\n",
    "        \n",
    "        if origen == 'Farenheit':\n",
    "            if destino == 'Farenheit':\n",
    "                valor_destino = valor\n",
    "            elif destino == 'Kelvin':\n",
    "                valor_destino = ((valor - 32) * 5/9) + 273.15\n",
    "            elif destino == 'Celsius':\n",
    "                valor_destino = ((valor - 32) * 5/9)\n",
    "            else:\n",
    "                print('Parametro de destino incorrecto')\n",
    "                \n",
    "        if origen == 'Kelvin':\n",
    "            if destino == 'Kelvin':\n",
    "                valor_destino = valor\n",
    "            elif destino == 'Celsius':\n",
    "                valor_destino = valor - 273.15\n",
    "            elif destino == 'Farenheit':\n",
    "                valor_destino = ((valor - 273.15) * 9/5) + 32\n",
    "            else:\n",
    "                print('Parametro de destino incorrecto')\n",
    "    \n",
    "        return valor_destino\n",
    "    \n",
    "    def factorial(self, numero):\n",
    "        if type(numero) != int:\n",
    "            return 'El numero ingresado debe ser entero'\n",
    "        if numero <= 0:\n",
    "            return 'El numero debe ser entero > 0'\n",
    "        if numero <= 1:\n",
    "            return 1\n",
    "        else:\n",
    "            return numero * self.factorial(numero - 1)\n",
    "        \n",
    "        return numero"
   ]
  },
  {
   "attachments": {},
   "cell_type": "markdown",
   "metadata": {},
   "source": [
    "6) Probar las funciones incorporadas en la clase del punto 5"
   ]
  },
  {
   "cell_type": "code",
   "execution_count": 20,
   "metadata": {},
   "outputs": [],
   "source": [
    "h = Herramientas()"
   ]
  },
  {
   "cell_type": "code",
   "execution_count": 21,
   "metadata": {},
   "outputs": [
    {
     "data": {
      "text/plain": [
       "True"
      ]
     },
     "execution_count": 21,
     "metadata": {},
     "output_type": "execute_result"
    }
   ],
   "source": [
    "h.es_primo(5)"
   ]
  },
  {
   "cell_type": "code",
   "execution_count": 22,
   "metadata": {},
   "outputs": [
    {
     "data": {
      "text/plain": [
       "(5, 4)"
      ]
     },
     "execution_count": 22,
     "metadata": {},
     "output_type": "execute_result"
    }
   ],
   "source": [
    "h.valor_modal([1,2,3,4,5,4,3,2,4,5,5,5])"
   ]
  },
  {
   "cell_type": "code",
   "execution_count": 23,
   "metadata": {},
   "outputs": [
    {
     "data": {
      "text/plain": [
       "77.0"
      ]
     },
     "execution_count": 23,
     "metadata": {},
     "output_type": "execute_result"
    }
   ],
   "source": [
    "h.conversion_grados(25,'Celsius', 'Farenheit')"
   ]
  },
  {
   "cell_type": "code",
   "execution_count": 24,
   "metadata": {},
   "outputs": [
    {
     "data": {
      "text/plain": [
       "120"
      ]
     },
     "execution_count": 24,
     "metadata": {},
     "output_type": "execute_result"
    }
   ],
   "source": [
    "h.factorial(5)"
   ]
  },
  {
   "attachments": {},
   "cell_type": "markdown",
   "metadata": {},
   "source": [
    "7) Es necesario que la clase creada en el punto 5 contenga una lista, sobre la cual se apliquen las funciones incorporadas"
   ]
  },
  {
   "cell_type": "code",
   "execution_count": 35,
   "metadata": {},
   "outputs": [],
   "source": [
    "class Herramientas:\n",
    "    def __init__(self, lista_numeros):\n",
    "        self.lista = lista_numeros\n",
    "        \n",
    "    def es_primo(self):\n",
    "        for i in self.lista:\n",
    "            if (self.__es_primo(i)):\n",
    "                print(f'El elemento {i} es primo')\n",
    "            else:\n",
    "                print(f'El elemto {i} no es primo')\n",
    "                \n",
    "    def conversion_grados(self, origen, destino):\n",
    "        for i in self.lista:\n",
    "            print(f'{i} grados {origen} son {self.__conversion_grados(i, origen, destino)} grados {destino}') \n",
    "            \n",
    "    def factorial(self):\n",
    "        for i in self.lista:\n",
    "            print(f'El factorial de {i} es {self.__factorial(i)}')\n",
    "    \n",
    "    def __es_primo(self, valor):\n",
    "        if valor == 1:\n",
    "            return False\n",
    "        for i in range(2, valor):\n",
    "            if valor % i == 0:\n",
    "                return False\n",
    "        return True\n",
    "    \n",
    "    def valor_modal(self, menor):\n",
    "        lista_unicos = []\n",
    "        lista_repeticiones = []\n",
    "        if len(self.lista) == 0:\n",
    "            return None\n",
    "        if (menor):\n",
    "            self.lista.sort()\n",
    "        else:\n",
    "            self.lista.sort(reverse=True)\n",
    "        for elemento in self.lista:\n",
    "            if elemento in lista_unicos:\n",
    "                i = lista_unicos.index(elemento)\n",
    "                lista_repeticiones[i] += 1\n",
    "            else:\n",
    "                lista_unicos.append(elemento)\n",
    "                lista_repeticiones.append(1)\n",
    "        moda = lista_unicos[0]\n",
    "        maximo = lista_repeticiones[0]\n",
    "        for i, elemento in enumerate(lista_unicos):\n",
    "            if lista_repeticiones[i] > maximo:\n",
    "                moda = lista_unicos[i]\n",
    "                maximo = lista_repeticiones[i]\n",
    "        return moda, maximo\n",
    "    \n",
    "    def __conversion_grados(self,valor,origen,destino):\n",
    "        if origen == 'Celsius':\n",
    "            if destino == 'Celsius':\n",
    "                valor_destino = valor\n",
    "            elif destino == 'Farenheit':\n",
    "                valor_destino = (valor * 9/5) + 32\n",
    "            elif destino == 'Kelvin':\n",
    "                valor_destino = (valor + 273.15)\n",
    "            else:\n",
    "                print('Parametro de destino incorrecto')\n",
    "        \n",
    "        if origen == 'Farenheit':\n",
    "            if destino == 'Farenheit':\n",
    "                valor_destino = valor\n",
    "            elif destino == 'Kelvin':\n",
    "                valor_destino = ((valor - 32) * 5/9) + 273.15\n",
    "            elif destino == 'Celsius':\n",
    "                valor_destino = ((valor - 32) * 5/9)\n",
    "            else:\n",
    "                print('Parametro de destino incorrecto')\n",
    "                \n",
    "        if origen == 'Kelvin':\n",
    "            if destino == 'Kelvin':\n",
    "                valor_destino = valor\n",
    "            elif destino == 'Celsius':\n",
    "                valor_destino = valor - 273.15\n",
    "            elif destino == 'Farenheit':\n",
    "                valor_destino = ((valor - 273.15) * 9/5) + 32\n",
    "            else:\n",
    "                print('Parametro de destino incorrecto')\n",
    "    \n",
    "        return valor_destino\n",
    "    \n",
    "    def __factorial(self, numero):\n",
    "        if type(numero) != int:\n",
    "            return 'El numero ingresado debe ser entero'\n",
    "        if numero <= 0:\n",
    "            return 'El numero debe ser entero > 0'\n",
    "        if numero <= 1:\n",
    "            return 1\n",
    "        else:\n",
    "            return numero * self.__factorial(numero - 1)\n",
    "        return numero"
   ]
  },
  {
   "cell_type": "code",
   "execution_count": 36,
   "metadata": {},
   "outputs": [],
   "source": [
    "h = Herramientas([1,1,2,5,8,8,9,11,15,16,16,16,18,20])"
   ]
  },
  {
   "cell_type": "code",
   "execution_count": 37,
   "metadata": {},
   "outputs": [
    {
     "name": "stdout",
     "output_type": "stream",
     "text": [
      "El elemto 1 no es primo\n",
      "El elemto 1 no es primo\n",
      "El elemento 2 es primo\n",
      "El elemento 5 es primo\n",
      "El elemto 8 no es primo\n",
      "El elemto 8 no es primo\n",
      "El elemto 9 no es primo\n",
      "El elemento 11 es primo\n",
      "El elemto 15 no es primo\n",
      "El elemto 16 no es primo\n",
      "El elemto 16 no es primo\n",
      "El elemto 16 no es primo\n",
      "El elemto 18 no es primo\n",
      "El elemto 20 no es primo\n"
     ]
    }
   ],
   "source": [
    "h.es_primo()"
   ]
  },
  {
   "cell_type": "code",
   "execution_count": 38,
   "metadata": {},
   "outputs": [
    {
     "name": "stdout",
     "output_type": "stream",
     "text": [
      "1 grados Celsius son 33.8 grados Farenheit\n",
      "1 grados Celsius son 33.8 grados Farenheit\n",
      "2 grados Celsius son 35.6 grados Farenheit\n",
      "5 grados Celsius son 41.0 grados Farenheit\n",
      "8 grados Celsius son 46.4 grados Farenheit\n",
      "8 grados Celsius son 46.4 grados Farenheit\n",
      "9 grados Celsius son 48.2 grados Farenheit\n",
      "11 grados Celsius son 51.8 grados Farenheit\n",
      "15 grados Celsius son 59.0 grados Farenheit\n",
      "16 grados Celsius son 60.8 grados Farenheit\n",
      "16 grados Celsius son 60.8 grados Farenheit\n",
      "16 grados Celsius son 60.8 grados Farenheit\n",
      "18 grados Celsius son 64.4 grados Farenheit\n",
      "20 grados Celsius son 68.0 grados Farenheit\n"
     ]
    }
   ],
   "source": [
    "h.conversion_grados('Celsius', 'Farenheit')"
   ]
  },
  {
   "cell_type": "code",
   "execution_count": 39,
   "metadata": {},
   "outputs": [
    {
     "name": "stdout",
     "output_type": "stream",
     "text": [
      "El valor modal es 16 y se reptie 3 veces\n"
     ]
    }
   ],
   "source": [
    "moda, repe = h.valor_modal(False)\n",
    "print('El valor modal es', moda, 'y se reptie', repe, 'veces')"
   ]
  },
  {
   "cell_type": "code",
   "execution_count": 40,
   "metadata": {},
   "outputs": [
    {
     "name": "stdout",
     "output_type": "stream",
     "text": [
      "El factorial de 20 es 2432902008176640000\n",
      "El factorial de 18 es 6402373705728000\n",
      "El factorial de 16 es 20922789888000\n",
      "El factorial de 16 es 20922789888000\n",
      "El factorial de 16 es 20922789888000\n",
      "El factorial de 15 es 1307674368000\n",
      "El factorial de 11 es 39916800\n",
      "El factorial de 9 es 362880\n",
      "El factorial de 8 es 40320\n",
      "El factorial de 8 es 40320\n",
      "El factorial de 5 es 120\n",
      "El factorial de 2 es 2\n",
      "El factorial de 1 es 1\n",
      "El factorial de 1 es 1\n"
     ]
    }
   ],
   "source": [
    "h.factorial()"
   ]
  },
  {
   "attachments": {},
   "cell_type": "markdown",
   "metadata": {},
   "source": [
    "8) Crear un archivo .py aparte y ubicar allí la clase generada en el punto anterior. Luego realizar la importación del módulo y probar alguna de sus funciones"
   ]
  },
  {
   "cell_type": "code",
   "execution_count": 61,
   "metadata": {},
   "outputs": [],
   "source": [
    "from herramientas_nuevas import *"
   ]
  },
  {
   "cell_type": "code",
   "execution_count": 67,
   "metadata": {},
   "outputs": [
    {
     "name": "stdout",
     "output_type": "stream",
     "text": [
      "El elemto 1 no es primo\n",
      "El elemto 1 no es primo\n",
      "El elemento 2 es primo\n",
      "El elemento 5 es primo\n",
      "El elemto 8 no es primo\n",
      "El elemto 8 no es primo\n",
      "El elemto 9 no es primo\n",
      "El elemento 11 es primo\n",
      "El elemto 15 no es primo\n",
      "El elemto 16 no es primo\n",
      "El elemto 16 no es primo\n",
      "El elemto 16 no es primo\n",
      "El elemto 18 no es primo\n",
      "El elemto 20 no es primo\n",
      "\n"
     ]
    },
    {
     "data": {
      "text/plain": [
       "(16, 3)"
      ]
     },
     "execution_count": 67,
     "metadata": {},
     "output_type": "execute_result"
    }
   ],
   "source": [
    "h1 = Herramientas([1,1,2,5,8,8,9,11,15,16,16,16,18,20])\n",
    "h1.es_primo()\n",
    "print()\n",
    "h1.valor_modal(False)"
   ]
  },
  {
   "cell_type": "code",
   "execution_count": 68,
   "metadata": {},
   "outputs": [
    {
     "name": "stdout",
     "output_type": "stream",
     "text": [
      "20 grados Celsius son 68.0 grados Farenheit\n",
      "18 grados Celsius son 64.4 grados Farenheit\n",
      "16 grados Celsius son 60.8 grados Farenheit\n",
      "16 grados Celsius son 60.8 grados Farenheit\n",
      "16 grados Celsius son 60.8 grados Farenheit\n",
      "15 grados Celsius son 59.0 grados Farenheit\n",
      "11 grados Celsius son 51.8 grados Farenheit\n",
      "9 grados Celsius son 48.2 grados Farenheit\n",
      "8 grados Celsius son 46.4 grados Farenheit\n",
      "8 grados Celsius son 46.4 grados Farenheit\n",
      "5 grados Celsius son 41.0 grados Farenheit\n",
      "2 grados Celsius son 35.6 grados Farenheit\n",
      "1 grados Celsius son 33.8 grados Farenheit\n",
      "1 grados Celsius son 33.8 grados Farenheit\n",
      "\n",
      "El factorial de 20 es 2432902008176640000\n",
      "El factorial de 18 es 6402373705728000\n",
      "El factorial de 16 es 20922789888000\n",
      "El factorial de 16 es 20922789888000\n",
      "El factorial de 16 es 20922789888000\n",
      "El factorial de 15 es 1307674368000\n",
      "El factorial de 11 es 39916800\n",
      "El factorial de 9 es 362880\n",
      "El factorial de 8 es 40320\n",
      "El factorial de 8 es 40320\n",
      "El factorial de 5 es 120\n",
      "El factorial de 2 es 2\n",
      "El factorial de 1 es 1\n",
      "El factorial de 1 es 1\n"
     ]
    }
   ],
   "source": [
    "h1.conversion_grados('Celsius','Farenheit')\n",
    "print()\n",
    "h1.factorial()"
   ]
  }
 ],
 "metadata": {
  "interpreter": {
   "hash": "c85384e4cb51c8b72350f3a8712cc8351fdc3955e32a27f9b60c6242ab125f01"
  },
  "kernelspec": {
   "display_name": "Python 3 (ipykernel)",
   "language": "python",
   "name": "python3"
  },
  "language_info": {
   "codemirror_mode": {
    "name": "ipython",
    "version": 3
   },
   "file_extension": ".py",
   "mimetype": "text/x-python",
   "name": "python",
   "nbconvert_exporter": "python",
   "pygments_lexer": "ipython3",
   "version": "3.10.9"
  }
 },
 "nbformat": 4,
 "nbformat_minor": 4
}
